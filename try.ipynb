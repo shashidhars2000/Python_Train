{
 "cells": [
  {
   "cell_type": "code",
   "execution_count": 3,
   "id": "e8aa3cb5-c5b8-4f58-9a86-6434ba336347",
   "metadata": {},
   "outputs": [
    {
     "name": "stdout",
     "output_type": "stream",
     "text": [
      "Hi world. this is my first code\n"
     ]
    }
   ],
   "source": [
    "print(\"Hi world. this is my first code\");"
   ]
  },
  {
   "cell_type": "code",
   "execution_count": null,
   "id": "ff7dca12-e832-4966-886a-205a80ef9752",
   "metadata": {},
   "outputs": [],
   "source": []
  }
 ],
 "metadata": {
  "kernelspec": {
   "display_name": "Python 3 (ipykernel)",
   "language": "python",
   "name": "python3"
  },
  "language_info": {
   "codemirror_mode": {
    "name": "ipython",
    "version": 3
   },
   "file_extension": ".py",
   "mimetype": "text/x-python",
   "name": "python",
   "nbconvert_exporter": "python",
   "pygments_lexer": "ipython3",
   "version": "3.11.7"
  }
 },
 "nbformat": 4,
 "nbformat_minor": 5
}
